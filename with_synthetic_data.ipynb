{
  "nbformat": 4,
  "nbformat_minor": 0,
  "metadata": {
    "colab": {
      "name": "with_synthetic_data.ipynb",
      "provenance": [],
      "authorship_tag": "ABX9TyM+ZgjJ8xoEjuC2CuTP2/+n",
      "include_colab_link": true
    },
    "kernelspec": {
      "name": "python3",
      "display_name": "Python 3"
    }
  },
  "cells": [
    {
      "cell_type": "markdown",
      "metadata": {
        "id": "view-in-github",
        "colab_type": "text"
      },
      "source": [
        "<a href=\"https://colab.research.google.com/github/vicente-gonzalez-ruiz/linear_regression/blob/master/with_synthetic_data.ipynb\" target=\"_parent\"><img src=\"https://colab.research.google.com/assets/colab-badge.svg\" alt=\"Open In Colab\"/></a>"
      ]
    },
    {
      "cell_type": "code",
      "metadata": {
        "id": "EBnhrHCNBdPQ",
        "colab_type": "code",
        "colab": {}
      },
      "source": [
        "%tensorflow_version 2.x\n",
        "import pandas as pd\n",
        "import tensorflow as tf\n",
        "from matplotlib import pyplot as plt"
      ],
      "execution_count": 0,
      "outputs": []
    },
    {
      "cell_type": "code",
      "metadata": {
        "id": "Y016zQ-BFL8-",
        "colab_type": "code",
        "colab": {}
      },
      "source": [
        "# Dataset definition\n",
        "features = ([1.0, 2.0,  3.0,  4.0,  5.0,  6.0,  7.0,  8.0,  9.0, 10.0, 11.0, 12.0])\n",
        "labels = ([5.0, 8.8,  9.6, 14.2, 18.8, 19.5, 21.4, 26.8, 28.9, 32.0, 33.8, 38.2])"
      ],
      "execution_count": 0,
      "outputs": []
    },
    {
      "cell_type": "code",
      "metadata": {
        "id": "DCdno_w1CaWq",
        "colab_type": "code",
        "colab": {}
      },
      "source": [
        "# Define a sequential model with tf.keras\n",
        "model = tf.keras.models.Sequential()"
      ],
      "execution_count": 0,
      "outputs": []
    },
    {
      "cell_type": "code",
      "metadata": {
        "id": "_XVbQwVzClf_",
        "colab_type": "code",
        "colab": {}
      },
      "source": [
        "# Structure (also called the topography) of the model (a single neuron, that is, a single node in a single layer)\n",
        "model.add(tf.keras.layers.Dense(units=1, input_shape=(1,)))"
      ],
      "execution_count": 0,
      "outputs": []
    },
    {
      "cell_type": "code",
      "metadata": {
        "id": "YB7eIRvwC5sN",
        "colab_type": "code",
        "colab": {}
      },
      "source": [
        "# Configure and compile the model\n",
        "learning_rate = 0.14\n",
        "model.compile(optimizer=tf.keras.optimizers.RMSprop(lr=learning_rate),\n",
        "                loss=\"mean_squared_error\",\n",
        "                metrics=[tf.keras.metrics.RootMeanSquaredError()])"
      ],
      "execution_count": 0,
      "outputs": []
    },
    {
      "cell_type": "code",
      "metadata": {
        "id": "BexMbRZ7DV_-",
        "colab_type": "code",
        "colab": {
          "base_uri": "https://localhost:8080/",
          "height": 1000
        },
        "outputId": "f0cfd3fe-bed7-44ee-a733-7f9a6b6964c8"
      },
      "source": [
        "# Train the model\n",
        "epochs = 70\n",
        "batch_size = 12\n",
        "history = model.fit(x=features, y=labels, batch_size=batch_size, epochs=epochs)"
      ],
      "execution_count": 20,
      "outputs": [
        {
          "output_type": "stream",
          "text": [
            "Epoch 1/70\n",
            "1/1 [==============================] - 0s 1ms/step - loss: 980.7772 - root_mean_squared_error: 31.3174\n",
            "Epoch 2/70\n",
            "1/1 [==============================] - 0s 1ms/step - loss: 765.3628 - root_mean_squared_error: 27.6652\n",
            "Epoch 3/70\n",
            "1/1 [==============================] - 0s 1ms/step - loss: 633.8879 - root_mean_squared_error: 25.1771\n",
            "Epoch 4/70\n",
            "1/1 [==============================] - 0s 1ms/step - loss: 537.3112 - root_mean_squared_error: 23.1800\n",
            "Epoch 5/70\n",
            "1/1 [==============================] - 0s 1ms/step - loss: 460.9060 - root_mean_squared_error: 21.4687\n",
            "Epoch 6/70\n",
            "1/1 [==============================] - 0s 987us/step - loss: 398.0137 - root_mean_squared_error: 19.9503\n",
            "Epoch 7/70\n",
            "1/1 [==============================] - 0s 981us/step - loss: 344.9781 - root_mean_squared_error: 18.5736\n",
            "Epoch 8/70\n",
            "1/1 [==============================] - 0s 1ms/step - loss: 299.5441 - root_mean_squared_error: 17.3073\n",
            "Epoch 9/70\n",
            "1/1 [==============================] - 0s 1ms/step - loss: 260.2061 - root_mean_squared_error: 16.1309\n",
            "Epoch 10/70\n",
            "1/1 [==============================] - 0s 1ms/step - loss: 225.8997 - root_mean_squared_error: 15.0300\n",
            "Epoch 11/70\n",
            "1/1 [==============================] - 0s 1ms/step - loss: 195.8379 - root_mean_squared_error: 13.9942\n",
            "Epoch 12/70\n",
            "1/1 [==============================] - 0s 1ms/step - loss: 169.4175 - root_mean_squared_error: 13.0160\n",
            "Epoch 13/70\n",
            "1/1 [==============================] - 0s 1ms/step - loss: 146.1621 - root_mean_squared_error: 12.0898\n",
            "Epoch 14/70\n",
            "1/1 [==============================] - 0s 1ms/step - loss: 125.6861 - root_mean_squared_error: 11.2110\n",
            "Epoch 15/70\n",
            "1/1 [==============================] - 0s 2ms/step - loss: 107.6695 - root_mean_squared_error: 10.3764\n",
            "Epoch 16/70\n",
            "1/1 [==============================] - 0s 1ms/step - loss: 91.8422 - root_mean_squared_error: 9.5834\n",
            "Epoch 17/70\n",
            "1/1 [==============================] - 0s 992us/step - loss: 77.9716 - root_mean_squared_error: 8.8302\n",
            "Epoch 18/70\n",
            "1/1 [==============================] - 0s 1ms/step - loss: 65.8547 - root_mean_squared_error: 8.1151\n",
            "Epoch 19/70\n",
            "1/1 [==============================] - 0s 945us/step - loss: 55.3113 - root_mean_squared_error: 7.4372\n",
            "Epoch 20/70\n",
            "1/1 [==============================] - 0s 1ms/step - loss: 46.1799 - root_mean_squared_error: 6.7956\n",
            "Epoch 21/70\n",
            "1/1 [==============================] - 0s 1ms/step - loss: 38.3143 - root_mean_squared_error: 6.1899\n",
            "Epoch 22/70\n",
            "1/1 [==============================] - 0s 1ms/step - loss: 31.5806 - root_mean_squared_error: 5.6197\n",
            "Epoch 23/70\n",
            "1/1 [==============================] - 0s 1ms/step - loss: 25.8559 - root_mean_squared_error: 5.0849\n",
            "Epoch 24/70\n",
            "1/1 [==============================] - 0s 1ms/step - loss: 21.0266 - root_mean_squared_error: 4.5855\n",
            "Epoch 25/70\n",
            "1/1 [==============================] - 0s 1ms/step - loss: 16.9875 - root_mean_squared_error: 4.1216\n",
            "Epoch 26/70\n",
            "1/1 [==============================] - 0s 906us/step - loss: 13.6410 - root_mean_squared_error: 3.6934\n",
            "Epoch 27/70\n",
            "1/1 [==============================] - 0s 1ms/step - loss: 10.8970 - root_mean_squared_error: 3.3011\n",
            "Epoch 28/70\n",
            "1/1 [==============================] - 0s 3ms/step - loss: 8.6724 - root_mean_squared_error: 2.9449\n",
            "Epoch 29/70\n",
            "1/1 [==============================] - 0s 1ms/step - loss: 6.8909 - root_mean_squared_error: 2.6251\n",
            "Epoch 30/70\n",
            "1/1 [==============================] - 0s 1ms/step - loss: 5.4832 - root_mean_squared_error: 2.3416\n",
            "Epoch 31/70\n",
            "1/1 [==============================] - 0s 954us/step - loss: 4.3869 - root_mean_squared_error: 2.0945\n",
            "Epoch 32/70\n",
            "1/1 [==============================] - 0s 997us/step - loss: 3.5461 - root_mean_squared_error: 1.8831\n",
            "Epoch 33/70\n",
            "1/1 [==============================] - 0s 1ms/step - loss: 2.9119 - root_mean_squared_error: 1.7064\n",
            "Epoch 34/70\n",
            "1/1 [==============================] - 0s 1ms/step - loss: 2.4419 - root_mean_squared_error: 1.5627\n",
            "Epoch 35/70\n",
            "1/1 [==============================] - 0s 4ms/step - loss: 2.1000 - root_mean_squared_error: 1.4492\n",
            "Epoch 36/70\n",
            "1/1 [==============================] - 0s 964us/step - loss: 1.8560 - root_mean_squared_error: 1.3624\n",
            "Epoch 37/70\n",
            "1/1 [==============================] - 0s 1ms/step - loss: 1.6852 - root_mean_squared_error: 1.2981\n",
            "Epoch 38/70\n",
            "1/1 [==============================] - 0s 1ms/step - loss: 1.5678 - root_mean_squared_error: 1.2521\n",
            "Epoch 39/70\n",
            "1/1 [==============================] - 0s 957us/step - loss: 1.4883 - root_mean_squared_error: 1.2200\n",
            "Epoch 40/70\n",
            "1/1 [==============================] - 0s 1ms/step - loss: 1.4351 - root_mean_squared_error: 1.1980\n",
            "Epoch 41/70\n",
            "1/1 [==============================] - 0s 2ms/step - loss: 1.3996 - root_mean_squared_error: 1.1830\n",
            "Epoch 42/70\n",
            "1/1 [==============================] - 0s 1ms/step - loss: 1.3754 - root_mean_squared_error: 1.1728\n",
            "Epoch 43/70\n",
            "1/1 [==============================] - 0s 2ms/step - loss: 1.3583 - root_mean_squared_error: 1.1655\n",
            "Epoch 44/70\n",
            "1/1 [==============================] - 0s 1ms/step - loss: 1.3455 - root_mean_squared_error: 1.1599\n",
            "Epoch 45/70\n",
            "1/1 [==============================] - 0s 1ms/step - loss: 1.3349 - root_mean_squared_error: 1.1554\n",
            "Epoch 46/70\n",
            "1/1 [==============================] - 0s 1ms/step - loss: 1.3256 - root_mean_squared_error: 1.1514\n",
            "Epoch 47/70\n",
            "1/1 [==============================] - 0s 1ms/step - loss: 1.3168 - root_mean_squared_error: 1.1475\n",
            "Epoch 48/70\n",
            "1/1 [==============================] - 0s 2ms/step - loss: 1.3081 - root_mean_squared_error: 1.1437\n",
            "Epoch 49/70\n",
            "1/1 [==============================] - 0s 4ms/step - loss: 1.2994 - root_mean_squared_error: 1.1399\n",
            "Epoch 50/70\n",
            "1/1 [==============================] - 0s 2ms/step - loss: 1.2904 - root_mean_squared_error: 1.1360\n",
            "Epoch 51/70\n",
            "1/1 [==============================] - 0s 1ms/step - loss: 1.2812 - root_mean_squared_error: 1.1319\n",
            "Epoch 52/70\n",
            "1/1 [==============================] - 0s 987us/step - loss: 1.2718 - root_mean_squared_error: 1.1277\n",
            "Epoch 53/70\n",
            "1/1 [==============================] - 0s 1ms/step - loss: 1.2621 - root_mean_squared_error: 1.1234\n",
            "Epoch 54/70\n",
            "1/1 [==============================] - 0s 1ms/step - loss: 1.2521 - root_mean_squared_error: 1.1190\n",
            "Epoch 55/70\n",
            "1/1 [==============================] - 0s 2ms/step - loss: 1.2419 - root_mean_squared_error: 1.1144\n",
            "Epoch 56/70\n",
            "1/1 [==============================] - 0s 1ms/step - loss: 1.2314 - root_mean_squared_error: 1.1097\n",
            "Epoch 57/70\n",
            "1/1 [==============================] - 0s 1ms/step - loss: 1.2207 - root_mean_squared_error: 1.1048\n",
            "Epoch 58/70\n",
            "1/1 [==============================] - 0s 1ms/step - loss: 1.2097 - root_mean_squared_error: 1.0999\n",
            "Epoch 59/70\n",
            "1/1 [==============================] - 0s 1ms/step - loss: 1.1986 - root_mean_squared_error: 1.0948\n",
            "Epoch 60/70\n",
            "1/1 [==============================] - 0s 1ms/step - loss: 1.1872 - root_mean_squared_error: 1.0896\n",
            "Epoch 61/70\n",
            "1/1 [==============================] - 0s 2ms/step - loss: 1.1757 - root_mean_squared_error: 1.0843\n",
            "Epoch 62/70\n",
            "1/1 [==============================] - 0s 1ms/step - loss: 1.1640 - root_mean_squared_error: 1.0789\n",
            "Epoch 63/70\n",
            "1/1 [==============================] - 0s 2ms/step - loss: 1.1522 - root_mean_squared_error: 1.0734\n",
            "Epoch 64/70\n",
            "1/1 [==============================] - 0s 3ms/step - loss: 1.1403 - root_mean_squared_error: 1.0678\n",
            "Epoch 65/70\n",
            "1/1 [==============================] - 0s 1ms/step - loss: 1.1283 - root_mean_squared_error: 1.0622\n",
            "Epoch 66/70\n",
            "1/1 [==============================] - 0s 1ms/step - loss: 1.1162 - root_mean_squared_error: 1.0565\n",
            "Epoch 67/70\n",
            "1/1 [==============================] - 0s 1ms/step - loss: 1.1042 - root_mean_squared_error: 1.0508\n",
            "Epoch 68/70\n",
            "1/1 [==============================] - 0s 3ms/step - loss: 1.0921 - root_mean_squared_error: 1.0450\n",
            "Epoch 69/70\n",
            "1/1 [==============================] - 0s 957us/step - loss: 1.0801 - root_mean_squared_error: 1.0393\n",
            "Epoch 70/70\n",
            "1/1 [==============================] - 0s 1ms/step - loss: 1.0682 - root_mean_squared_error: 1.0335\n"
          ],
          "name": "stdout"
        }
      ]
    },
    {
      "cell_type": "code",
      "metadata": {
        "id": "yvgstsUoDx9B",
        "colab_type": "code",
        "colab": {
          "base_uri": "https://localhost:8080/",
          "height": 255
        },
        "outputId": "ded70c82-c35b-4414-92ee-32a98d11305a"
      },
      "source": [
        "# Get parameters of the training (remember that a lineal model only have a bias and a weight)\n",
        "weight = model.get_weights()[0]\n",
        "bias = model.get_weights()[1]\n",
        "completed_epochs = history.epoch\n",
        "history_per_epoch = pd.DataFrame(history.history)\n",
        "print(history_per_epoch)\n",
        "rmse = history_per_epoch[\"root_mean_squared_error\"]"
      ],
      "execution_count": 21,
      "outputs": [
        {
          "output_type": "stream",
          "text": [
            "          loss  root_mean_squared_error\n",
            "0   980.777161                31.317362\n",
            "1   765.362793                27.665192\n",
            "2   633.887939                25.177132\n",
            "3   537.311157                23.179974\n",
            "4   460.906036                21.468721\n",
            "..         ...                      ...\n",
            "65    1.116247                 1.056526\n",
            "66    1.104177                 1.050798\n",
            "67    1.092120                 1.045045\n",
            "68    1.080108                 1.039283\n",
            "69    1.068179                 1.033527\n",
            "\n",
            "[70 rows x 2 columns]\n"
          ],
          "name": "stdout"
        }
      ]
    },
    {
      "cell_type": "code",
      "metadata": {
        "id": "mh0uLYqDEvnP",
        "colab_type": "code",
        "colab": {
          "base_uri": "https://localhost:8080/",
          "height": 279
        },
        "outputId": "2c0d8f85-737d-48a4-d0e8-03d608d10dd7"
      },
      "source": [
        "# Plot the regression model\n",
        "def plot_model():\n",
        "  plt.xlabel(\"feature\")\n",
        "  plt.ylabel(\"label\")\n",
        "  plt.scatter(features, labels)\n",
        "\n",
        "  # Create a red line representing the model. The red line starts\n",
        "  # at coordinates (x0, y0) and ends at coordinates (x1, y1).\n",
        "  x0 = 0\n",
        "  y0 = bias\n",
        "  x1 = features[-1]\n",
        "  y1 = bias + weight*x1\n",
        "\n",
        "  plt.plot([x0, x1], [y0, y1], c='r')\n",
        "  plt.show()\n",
        "plot_model()"
      ],
      "execution_count": 22,
      "outputs": [
        {
          "output_type": "display_data",
          "data": {
            "image/png": "[encoded data removed]",
            "text/plain": [
              "<Figure size 432x288 with 1 Axes>"
            ]
          },
          "metadata": {
            "tags": [],
            "needs_background": "light"
          }
        }
      ]
    },
    {
      "cell_type": "code",
      "metadata": {
        "id": "gObof4xaGqY4",
        "colab_type": "code",
        "colab": {
          "base_uri": "https://localhost:8080/",
          "height": 279
        },
        "outputId": "3f47a97b-120d-46be-ce76-2f5f5fcff19d"
      },
      "source": [
        "# Plot the loss curve (loss vs epoch)\n",
        "def plot_loss():\n",
        "  plt.figure()\n",
        "  plt.xlabel(\"Epoch\")\n",
        "  plt.ylabel(\"Root Mean Squared Error\")\n",
        "  plt.plot(completed_epochs, rmse, label=\"Loss\")\n",
        "  plt.legend()\n",
        "  plt.ylim([rmse.min()*0.97, rmse.max()])\n",
        "  plt.show()\n",
        "plot_loss()"
      ],
      "execution_count": 23,
      "outputs": [
        {
          "output_type": "display_data",
          "data": {
            "image/png": "[encoded data removed]",
            "text/plain": [
              "<Figure size 432x288 with 1 Axes>"
            ]
          },
          "metadata": {
            "tags": [],
            "needs_background": "light"
          }
        }
      ]
    },
    {
      "cell_type": "code",
      "metadata": {
        "id": "yqF0Few7D82s",
        "colab_type": "code",
        "colab": {
          "base_uri": "https://localhost:8080/",
          "height": 1000
        },
        "outputId": "8834065c-c697-4d98-db86-1442f0d32c5a"
      },
      "source": [
        "# Impact of the batch size\n",
        "epochs = 125\n",
        "batch_size = 1\n",
        "learning_rate = 0.05\n",
        "model.compile(optimizer=tf.keras.optimizers.RMSprop(lr=learning_rate), loss=\"mean_squared_error\", metrics=[tf.keras.metrics.RootMeanSquaredError()])\n",
        "history = model.fit(x=features, y=labels, batch_size=batch_size, epochs=epochs)\n",
        "weight = model.get_weights()[0]\n",
        "bias = model.get_weights()[1]\n",
        "completed_epochs = history.epoch\n",
        "history_per_epoch = pd.DataFrame(history.history)\n",
        "rmse = history_per_epoch[\"root_mean_squared_error\"]\n",
        "plot_model()\n",
        "plot_loss()"
      ],
      "execution_count": 24,
      "outputs": [
        {
          "output_type": "stream",
          "text": [
            "Epoch 1/125\n",
            "12/12 [==============================] - 0s 1ms/step - loss: 1.2655 - root_mean_squared_error: 1.1249\n",
            "Epoch 2/125\n",
            "12/12 [==============================] - 0s 1ms/step - loss: 1.1789 - root_mean_squared_error: 1.0858\n",
            "Epoch 3/125\n",
            "12/12 [==============================] - 0s 961us/step - loss: 1.4367 - root_mean_squared_error: 1.1986\n",
            "Epoch 4/125\n",
            "12/12 [==============================] - 0s 965us/step - loss: 1.1608 - root_mean_squared_error: 1.0774\n",
            "Epoch 5/125\n",
            "12/12 [==============================] - 0s 1ms/step - loss: 1.3516 - root_mean_squared_error: 1.1626\n",
            "Epoch 6/125\n",
            "12/12 [==============================] - 0s 1ms/step - loss: 1.3110 - root_mean_squared_error: 1.1450\n",
            "Epoch 7/125\n",
            "12/12 [==============================] - 0s 1ms/step - loss: 1.1334 - root_mean_squared_error: 1.0646\n",
            "Epoch 8/125\n",
            "12/12 [==============================] - 0s 1ms/step - loss: 1.1443 - root_mean_squared_error: 1.0697\n",
            "Epoch 9/125\n",
            "12/12 [==============================] - 0s 1ms/step - loss: 1.1558 - root_mean_squared_error: 1.0751\n",
            "Epoch 10/125\n",
            "12/12 [==============================] - 0s 977us/step - loss: 0.8653 - root_mean_squared_error: 0.9302\n",
            "Epoch 11/125\n",
            "12/12 [==============================] - 0s 992us/step - loss: 0.7474 - root_mean_squared_error: 0.8645\n",
            "Epoch 12/125\n",
            "12/12 [==============================] - 0s 1ms/step - loss: 1.5183 - root_mean_squared_error: 1.2322\n",
            "Epoch 13/125\n",
            "12/12 [==============================] - 0s 1ms/step - loss: 1.2216 - root_mean_squared_error: 1.1053\n",
            "Epoch 14/125\n",
            "12/12 [==============================] - 0s 1ms/step - loss: 1.0792 - root_mean_squared_error: 1.0388\n",
            "Epoch 15/125\n",
            "12/12 [==============================] - 0s 1ms/step - loss: 1.1384 - root_mean_squared_error: 1.0670\n",
            "Epoch 16/125\n",
            "12/12 [==============================] - 0s 991us/step - loss: 1.2562 - root_mean_squared_error: 1.1208\n",
            "Epoch 17/125\n",
            "12/12 [==============================] - 0s 1ms/step - loss: 1.1403 - root_mean_squared_error: 1.0678\n",
            "Epoch 18/125\n",
            "12/12 [==============================] - 0s 1ms/step - loss: 1.2807 - root_mean_squared_error: 1.1317\n",
            "Epoch 19/125\n",
            "12/12 [==============================] - 0s 988us/step - loss: 1.2421 - root_mean_squared_error: 1.1145\n",
            "Epoch 20/125\n",
            "12/12 [==============================] - 0s 1ms/step - loss: 1.1401 - root_mean_squared_error: 1.0677\n",
            "Epoch 21/125\n",
            "12/12 [==============================] - 0s 1ms/step - loss: 0.9404 - root_mean_squared_error: 0.9698\n",
            "Epoch 22/125\n",
            "12/12 [==============================] - 0s 988us/step - loss: 1.1398 - root_mean_squared_error: 1.0676\n",
            "Epoch 23/125\n",
            "12/12 [==============================] - 0s 1ms/step - loss: 1.2437 - root_mean_squared_error: 1.1152\n",
            "Epoch 24/125\n",
            "12/12 [==============================] - 0s 986us/step - loss: 1.2308 - root_mean_squared_error: 1.1094\n",
            "Epoch 25/125\n",
            "12/12 [==============================] - 0s 1ms/step - loss: 1.0093 - root_mean_squared_error: 1.0047\n",
            "Epoch 26/125\n",
            "12/12 [==============================] - 0s 1ms/step - loss: 1.2775 - root_mean_squared_error: 1.1303\n",
            "Epoch 27/125\n",
            "12/12 [==============================] - 0s 1ms/step - loss: 1.0330 - root_mean_squared_error: 1.0164\n",
            "Epoch 28/125\n",
            "12/12 [==============================] - 0s 1ms/step - loss: 1.2419 - root_mean_squared_error: 1.1144\n",
            "Epoch 29/125\n",
            "12/12 [==============================] - 0s 1ms/step - loss: 1.2651 - root_mean_squared_error: 1.1248\n",
            "Epoch 30/125\n",
            "12/12 [==============================] - 0s 1ms/step - loss: 1.2474 - root_mean_squared_error: 1.1169\n",
            "Epoch 31/125\n",
            "12/12 [==============================] - 0s 1ms/step - loss: 1.1792 - root_mean_squared_error: 1.0859\n",
            "Epoch 32/125\n",
            "12/12 [==============================] - 0s 983us/step - loss: 1.0902 - root_mean_squared_error: 1.0441\n",
            "Epoch 33/125\n",
            "12/12 [==============================] - 0s 1ms/step - loss: 0.9873 - root_mean_squared_error: 0.9936\n",
            "Epoch 34/125\n",
            "12/12 [==============================] - 0s 1ms/step - loss: 1.2842 - root_mean_squared_error: 1.1332\n",
            "Epoch 35/125\n",
            "12/12 [==============================] - 0s 1ms/step - loss: 1.1226 - root_mean_squared_error: 1.0595\n",
            "Epoch 36/125\n",
            "12/12 [==============================] - 0s 986us/step - loss: 0.9621 - root_mean_squared_error: 0.9809\n",
            "Epoch 37/125\n",
            "12/12 [==============================] - 0s 1000us/step - loss: 1.3076 - root_mean_squared_error: 1.1435\n",
            "Epoch 38/125\n",
            "12/12 [==============================] - 0s 1ms/step - loss: 1.1925 - root_mean_squared_error: 1.0920\n",
            "Epoch 39/125\n",
            "12/12 [==============================] - 0s 1ms/step - loss: 1.1242 - root_mean_squared_error: 1.0603\n",
            "Epoch 40/125\n",
            "12/12 [==============================] - 0s 1ms/step - loss: 0.9976 - root_mean_squared_error: 0.9988\n",
            "Epoch 41/125\n",
            "12/12 [==============================] - 0s 1ms/step - loss: 1.2836 - root_mean_squared_error: 1.1330\n",
            "Epoch 42/125\n",
            "12/12 [==============================] - 0s 1ms/step - loss: 1.1465 - root_mean_squared_error: 1.0708\n",
            "Epoch 43/125\n",
            "12/12 [==============================] - 0s 1ms/step - loss: 1.1595 - root_mean_squared_error: 1.0768\n",
            "Epoch 44/125\n",
            "12/12 [==============================] - 0s 1ms/step - loss: 1.1188 - root_mean_squared_error: 1.0577\n",
            "Epoch 45/125\n",
            "12/12 [==============================] - 0s 1ms/step - loss: 1.1417 - root_mean_squared_error: 1.0685\n",
            "Epoch 46/125\n",
            "12/12 [==============================] - 0s 1ms/step - loss: 1.1550 - root_mean_squared_error: 1.0747\n",
            "Epoch 47/125\n",
            "12/12 [==============================] - 0s 995us/step - loss: 1.1488 - root_mean_squared_error: 1.0718\n",
            "Epoch 48/125\n",
            "12/12 [==============================] - 0s 1ms/step - loss: 1.1877 - root_mean_squared_error: 1.0898\n",
            "Epoch 49/125\n",
            "12/12 [==============================] - 0s 999us/step - loss: 1.0969 - root_mean_squared_error: 1.0473\n",
            "Epoch 50/125\n",
            "12/12 [==============================] - 0s 1ms/step - loss: 1.1244 - root_mean_squared_error: 1.0604\n",
            "Epoch 51/125\n",
            "12/12 [==============================] - 0s 1ms/step - loss: 1.1581 - root_mean_squared_error: 1.0762\n",
            "Epoch 52/125\n",
            "12/12 [==============================] - 0s 1ms/step - loss: 0.8172 - root_mean_squared_error: 0.9040\n",
            "Epoch 53/125\n",
            "12/12 [==============================] - 0s 948us/step - loss: 1.1314 - root_mean_squared_error: 1.0637\n",
            "Epoch 54/125\n",
            "12/12 [==============================] - 0s 995us/step - loss: 0.8745 - root_mean_squared_error: 0.9352\n",
            "Epoch 55/125\n",
            "12/12 [==============================] - 0s 1ms/step - loss: 0.9713 - root_mean_squared_error: 0.9855\n",
            "Epoch 56/125\n",
            "12/12 [==============================] - 0s 965us/step - loss: 1.3249 - root_mean_squared_error: 1.1511\n",
            "Epoch 57/125\n",
            "12/12 [==============================] - 0s 972us/step - loss: 0.9843 - root_mean_squared_error: 0.9921\n",
            "Epoch 58/125\n",
            "12/12 [==============================] - 0s 1ms/step - loss: 1.2024 - root_mean_squared_error: 1.0966\n",
            "Epoch 59/125\n",
            "12/12 [==============================] - 0s 1ms/step - loss: 1.1582 - root_mean_squared_error: 1.0762\n",
            "Epoch 60/125\n",
            "12/12 [==============================] - 0s 1ms/step - loss: 1.0391 - root_mean_squared_error: 1.0194\n",
            "Epoch 61/125\n",
            "12/12 [==============================] - 0s 1ms/step - loss: 1.1811 - root_mean_squared_error: 1.0868\n",
            "Epoch 62/125\n",
            "12/12 [==============================] - 0s 1ms/step - loss: 1.2124 - root_mean_squared_error: 1.1011\n",
            "Epoch 63/125\n",
            "12/12 [==============================] - 0s 1ms/step - loss: 1.2405 - root_mean_squared_error: 1.1138\n",
            "Epoch 64/125\n",
            "12/12 [==============================] - 0s 1ms/step - loss: 1.1143 - root_mean_squared_error: 1.0556\n",
            "Epoch 65/125\n",
            "12/12 [==============================] - 0s 953us/step - loss: 1.1490 - root_mean_squared_error: 1.0719\n",
            "Epoch 66/125\n",
            "12/12 [==============================] - 0s 1ms/step - loss: 1.0390 - root_mean_squared_error: 1.0193\n",
            "Epoch 67/125\n",
            "12/12 [==============================] - 0s 1ms/step - loss: 1.1778 - root_mean_squared_error: 1.0853\n",
            "Epoch 68/125\n",
            "12/12 [==============================] - 0s 1000us/step - loss: 1.0684 - root_mean_squared_error: 1.0336\n",
            "Epoch 69/125\n",
            "12/12 [==============================] - 0s 1ms/step - loss: 1.1355 - root_mean_squared_error: 1.0656\n",
            "Epoch 70/125\n",
            "12/12 [==============================] - 0s 1ms/step - loss: 0.8296 - root_mean_squared_error: 0.9108\n",
            "Epoch 71/125\n",
            "12/12 [==============================] - 0s 1ms/step - loss: 1.2670 - root_mean_squared_error: 1.1256\n",
            "Epoch 72/125\n",
            "12/12 [==============================] - 0s 986us/step - loss: 1.1531 - root_mean_squared_error: 1.0738\n",
            "Epoch 73/125\n",
            "12/12 [==============================] - 0s 975us/step - loss: 1.0816 - root_mean_squared_error: 1.0400\n",
            "Epoch 74/125\n",
            "12/12 [==============================] - 0s 1ms/step - loss: 1.3532 - root_mean_squared_error: 1.1633\n",
            "Epoch 75/125\n",
            "12/12 [==============================] - 0s 1ms/step - loss: 0.9269 - root_mean_squared_error: 0.9628\n",
            "Epoch 76/125\n",
            "12/12 [==============================] - 0s 1ms/step - loss: 0.9941 - root_mean_squared_error: 0.9970\n",
            "Epoch 77/125\n",
            "12/12 [==============================] - 0s 1ms/step - loss: 1.0533 - root_mean_squared_error: 1.0263\n",
            "Epoch 78/125\n",
            "12/12 [==============================] - 0s 1ms/step - loss: 0.7294 - root_mean_squared_error: 0.8540\n",
            "Epoch 79/125\n",
            "12/12 [==============================] - 0s 1ms/step - loss: 1.2767 - root_mean_squared_error: 1.1299\n",
            "Epoch 80/125\n",
            "12/12 [==============================] - 0s 1ms/step - loss: 1.1810 - root_mean_squared_error: 1.0867\n",
            "Epoch 81/125\n",
            "12/12 [==============================] - 0s 1ms/step - loss: 1.2467 - root_mean_squared_error: 1.1165\n",
            "Epoch 82/125\n",
            "12/12 [==============================] - 0s 1ms/step - loss: 0.9926 - root_mean_squared_error: 0.9963\n",
            "Epoch 83/125\n",
            "12/12 [==============================] - 0s 1ms/step - loss: 1.1174 - root_mean_squared_error: 1.0571\n",
            "Epoch 84/125\n",
            "12/12 [==============================] - 0s 1ms/step - loss: 1.2542 - root_mean_squared_error: 1.1199\n",
            "Epoch 85/125\n",
            "12/12 [==============================] - 0s 1ms/step - loss: 1.1082 - root_mean_squared_error: 1.0527\n",
            "Epoch 86/125\n",
            "12/12 [==============================] - 0s 1ms/step - loss: 0.8524 - root_mean_squared_error: 0.9233\n",
            "Epoch 87/125\n",
            "12/12 [==============================] - 0s 1ms/step - loss: 1.1917 - root_mean_squared_error: 1.0917\n",
            "Epoch 88/125\n",
            "12/12 [==============================] - 0s 1ms/step - loss: 1.2540 - root_mean_squared_error: 1.1198\n",
            "Epoch 89/125\n",
            "12/12 [==============================] - 0s 1ms/step - loss: 1.1550 - root_mean_squared_error: 1.0747\n",
            "Epoch 90/125\n",
            "12/12 [==============================] - 0s 1ms/step - loss: 1.1006 - root_mean_squared_error: 1.0491\n",
            "Epoch 91/125\n",
            "12/12 [==============================] - 0s 1ms/step - loss: 1.1928 - root_mean_squared_error: 1.0921\n",
            "Epoch 92/125\n",
            "12/12 [==============================] - 0s 1ms/step - loss: 1.0487 - root_mean_squared_error: 1.0241\n",
            "Epoch 93/125\n",
            "12/12 [==============================] - 0s 1ms/step - loss: 1.1474 - root_mean_squared_error: 1.0712\n",
            "Epoch 94/125\n",
            "12/12 [==============================] - 0s 990us/step - loss: 1.2186 - root_mean_squared_error: 1.1039\n",
            "Epoch 95/125\n",
            "12/12 [==============================] - 0s 1ms/step - loss: 1.1369 - root_mean_squared_error: 1.0663\n",
            "Epoch 96/125\n",
            "12/12 [==============================] - 0s 1ms/step - loss: 1.1760 - root_mean_squared_error: 1.0844\n",
            "Epoch 97/125\n",
            "12/12 [==============================] - 0s 1ms/step - loss: 0.8970 - root_mean_squared_error: 0.9471\n",
            "Epoch 98/125\n",
            "12/12 [==============================] - 0s 977us/step - loss: 1.2736 - root_mean_squared_error: 1.1285\n",
            "Epoch 99/125\n",
            "12/12 [==============================] - 0s 1ms/step - loss: 1.1761 - root_mean_squared_error: 1.0845\n",
            "Epoch 100/125\n",
            "12/12 [==============================] - 0s 1ms/step - loss: 1.1977 - root_mean_squared_error: 1.0944\n",
            "Epoch 101/125\n",
            "12/12 [==============================] - 0s 1ms/step - loss: 1.1090 - root_mean_squared_error: 1.0531\n",
            "Epoch 102/125\n",
            "12/12 [==============================] - 0s 1ms/step - loss: 1.2061 - root_mean_squared_error: 1.0982\n",
            "Epoch 103/125\n",
            "12/12 [==============================] - 0s 1ms/step - loss: 1.2348 - root_mean_squared_error: 1.1112\n",
            "Epoch 104/125\n",
            "12/12 [==============================] - 0s 1ms/step - loss: 1.0263 - root_mean_squared_error: 1.0131\n",
            "Epoch 105/125\n",
            "12/12 [==============================] - 0s 1ms/step - loss: 1.1782 - root_mean_squared_error: 1.0854\n",
            "Epoch 106/125\n",
            "12/12 [==============================] - 0s 1ms/step - loss: 1.1136 - root_mean_squared_error: 1.0553\n",
            "Epoch 107/125\n",
            "12/12 [==============================] - 0s 999us/step - loss: 1.1055 - root_mean_squared_error: 1.0514\n",
            "Epoch 108/125\n",
            "12/12 [==============================] - 0s 997us/step - loss: 1.0451 - root_mean_squared_error: 1.0223\n",
            "Epoch 109/125\n",
            "12/12 [==============================] - 0s 1ms/step - loss: 1.1336 - root_mean_squared_error: 1.0647\n",
            "Epoch 110/125\n",
            "12/12 [==============================] - 0s 1ms/step - loss: 1.1872 - root_mean_squared_error: 1.0896\n",
            "Epoch 111/125\n",
            "12/12 [==============================] - 0s 1ms/step - loss: 1.2526 - root_mean_squared_error: 1.1192\n",
            "Epoch 112/125\n",
            "12/12 [==============================] - 0s 1ms/step - loss: 0.9646 - root_mean_squared_error: 0.9821\n",
            "Epoch 113/125\n",
            "12/12 [==============================] - 0s 1ms/step - loss: 1.1506 - root_mean_squared_error: 1.0726\n",
            "Epoch 114/125\n",
            "12/12 [==============================] - 0s 1ms/step - loss: 1.1351 - root_mean_squared_error: 1.0654\n",
            "Epoch 115/125\n",
            "12/12 [==============================] - 0s 1ms/step - loss: 1.1420 - root_mean_squared_error: 1.0686\n",
            "Epoch 116/125\n",
            "12/12 [==============================] - 0s 1ms/step - loss: 0.8295 - root_mean_squared_error: 0.9107\n",
            "Epoch 117/125\n",
            "12/12 [==============================] - 0s 1ms/step - loss: 1.1184 - root_mean_squared_error: 1.0576\n",
            "Epoch 118/125\n",
            "12/12 [==============================] - 0s 1ms/step - loss: 1.2591 - root_mean_squared_error: 1.1221\n",
            "Epoch 119/125\n",
            "12/12 [==============================] - 0s 1ms/step - loss: 1.0566 - root_mean_squared_error: 1.0279\n",
            "Epoch 120/125\n",
            "12/12 [==============================] - 0s 1ms/step - loss: 1.1840 - root_mean_squared_error: 1.0881\n",
            "Epoch 121/125\n",
            "12/12 [==============================] - 0s 1ms/step - loss: 1.1189 - root_mean_squared_error: 1.0578\n",
            "Epoch 122/125\n",
            "12/12 [==============================] - 0s 1ms/step - loss: 1.0110 - root_mean_squared_error: 1.0055\n",
            "Epoch 123/125\n",
            "12/12 [==============================] - 0s 1ms/step - loss: 1.2925 - root_mean_squared_error: 1.1369\n",
            "Epoch 124/125\n",
            "12/12 [==============================] - 0s 991us/step - loss: 1.2100 - root_mean_squared_error: 1.1000\n",
            "Epoch 125/125\n",
            "12/12 [==============================] - 0s 1ms/step - loss: 1.0788 - root_mean_squared_error: 1.0387\n"
          ],
          "name": "stdout"
        },
        {
          "output_type": "display_data",
          "data": {
            "image/png": "[encoded data removed]",
            "text/plain": [
              "<Figure size 432x288 with 1 Axes>"
            ]
          },
          "metadata": {
            "tags": [],
            "needs_background": "light"
          }
        },
        {
          "output_type": "display_data",
          "data": {
            "image/png": "[encoded data removed]",
            "text/plain": [
              "<Figure size 432x288 with 1 Axes>"
            ]
          },
          "metadata": {
            "tags": [],
            "needs_background": "light"
          }
        }
      ]
    },
    {
      "cell_type": "code",
      "metadata": {
        "id": "bxlFa2OwKSNA",
        "colab_type": "code",
        "colab": {}
      },
      "source": [
        ""
      ],
      "execution_count": 0,
      "outputs": []
    }
  ]
}